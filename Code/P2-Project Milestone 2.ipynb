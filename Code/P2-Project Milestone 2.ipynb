{
 "cells": [
  {
   "cell_type": "markdown",
   "id": "2583223a",
   "metadata": {},
   "source": [
    "# P2: Project proposal and initial analyses\n",
    "When you are done with Homework H1, you will continue to work on the next project milestone. In Milestone P2, together with your team members, you will agree on and refine your project proposal. Your first task is to select a project. Even though we provide the datasets for you to use, at this juncture, it is your responsibility to perform initial analyses and verify that what you propose is feasible given the data (including any additional data you might bring in yourself), which is crucial for the success of the project.\n",
    "\n",
    "The goal of this milestone is to intimately acquaint yourself with the data, preprocess it, and complete all the necessary descriptive statistics tasks. We expect you to have a pipeline in place, fully documented in a notebook, and show us that you have clear project goals.\n",
    "\n",
    "When describing the relevant aspects of the data, and any other datasets you may intend to use, you should in particular show (non-exhaustive list):\n",
    "\n",
    "- That you can handle the data in its size.\n",
    "- That you understand what’s in the data (formats, distributions, missing values, correlations, etc.).\n",
    "- That you considered ways to enrich, filter, transform the data according to your needs.\n",
    "- That you have a reasonable plan and ideas for methods you’re going to use, giving their essential mathematical details in the notebook.\n",
    "- That your plan for analysis and communication is reasonable and sound, potentially discussing alternatives to your choices that you considered but dropped.\n",
    "\n",
    "We will evaluate this milestone according to how well these steps have been done and documented, the quality of the code and its documentation, the feasibility and critical awareness of the project. We will also evaluate this milestone according to how clear, reasonable, and well thought-through the project idea is. Please use the second milestone to really check with us that everything is in order with your project (idea, feasibility, etc.) before you advance too much with the final Milestone P3! There will be project office hours dedicated to helping you.\n",
    "\n",
    "You will work in a public GitHub repository dedicated to your project, which can be created by following this link. The repository will automatically be named ada-2023-project-<your_team_name>. By the Milestone P2 deadline, each team should have a single public GitHub repo under the epfl-ada GitHub organization, containing the project proposal and initial analysis code.\n",
    "\n",
    "## P2 deliverable (done as a team): GitHub repository with the following:\n",
    "\n",
    "- Readme.md file containing the detailed project proposal (up to 1000 words). Your README.md should contain:\n",
    "  - Title\n",
    "  - bstract: A 150 word description of the project idea and goals. What’s the motivation behind your project? What story would you like to tell, and why?\n",
    "  - Research Questions: A list of research questions you would like to address during the project.\n",
    "  - Proposed additional datasets (if any): List the additional dataset(s) you want to use (if any), and some ideas on how you expect to get, manage, process, and enrich it/them. Show us that you’ve read the docs and some examples, and that you have a clear idea on what to expect. Discuss data size and format if relevant. It is your responsibility to check that what you propose is feasible.\n",
    "  - Methods\n",
    "  - Proposed timeline\n",
    "  - Organization within the team: A list of internal milestones up until project Milestone P3.\n",
    "  - Questions for TAs (optional): Add here any questions you have for us related to the proposed project.\n",
    "- Notebook containing initial analyses and data handling pipelines. We will grade the correctness, quality of code, and quality of textual descriptions.\n"
   ]
  },
  {
   "cell_type": "code",
   "execution_count": 1,
   "id": "69f33e1e",
   "metadata": {},
   "outputs": [],
   "source": [
    "import pandas as pd\n",
    "import matplotlib.pyplot as plt"
   ]
  },
  {
   "cell_type": "code",
   "execution_count": 8,
   "id": "5154c113",
   "metadata": {},
   "outputs": [
    {
     "data": {
      "text/html": [
       "<div>\n",
       "<style scoped>\n",
       "    .dataframe tbody tr th:only-of-type {\n",
       "        vertical-align: middle;\n",
       "    }\n",
       "\n",
       "    .dataframe tbody tr th {\n",
       "        vertical-align: top;\n",
       "    }\n",
       "\n",
       "    .dataframe thead th {\n",
       "        text-align: right;\n",
       "    }\n",
       "</style>\n",
       "<table border=\"1\" class=\"dataframe\">\n",
       "  <thead>\n",
       "    <tr style=\"text-align: right;\">\n",
       "      <th></th>\n",
       "      <th>hashedIpAddress</th>\n",
       "      <th>timestamp</th>\n",
       "      <th>durationInSec</th>\n",
       "      <th>path</th>\n",
       "      <th>target</th>\n",
       "      <th>type</th>\n",
       "    </tr>\n",
       "  </thead>\n",
       "  <tbody>\n",
       "    <tr>\n",
       "      <th>0</th>\n",
       "      <td>2426091a53125110</td>\n",
       "      <td>1297054935</td>\n",
       "      <td>1804</td>\n",
       "      <td>Obi-Wan_Kenobi</td>\n",
       "      <td>Microsoft</td>\n",
       "      <td>timeout</td>\n",
       "    </tr>\n",
       "    <tr>\n",
       "      <th>1</th>\n",
       "      <td>26141fd878806294</td>\n",
       "      <td>1297055651</td>\n",
       "      <td>1805</td>\n",
       "      <td>Julius_Caesar</td>\n",
       "      <td>Caracas</td>\n",
       "      <td>timeout</td>\n",
       "    </tr>\n",
       "    <tr>\n",
       "      <th>2</th>\n",
       "      <td>2b015fb8181c48f2</td>\n",
       "      <td>1297090819</td>\n",
       "      <td>1818</td>\n",
       "      <td>Malawi;Democracy;Alexander_the_Great</td>\n",
       "      <td>First_Crusade</td>\n",
       "      <td>timeout</td>\n",
       "    </tr>\n",
       "    <tr>\n",
       "      <th>3</th>\n",
       "      <td>53a53bc244e08a6a</td>\n",
       "      <td>1297094761</td>\n",
       "      <td>49</td>\n",
       "      <td>Paraguay</td>\n",
       "      <td>Mount_St._Helens</td>\n",
       "      <td>restart</td>\n",
       "    </tr>\n",
       "    <tr>\n",
       "      <th>4</th>\n",
       "      <td>53a53bc244e08a6a</td>\n",
       "      <td>1297099105</td>\n",
       "      <td>1808</td>\n",
       "      <td>Paraguay;Bolivia</td>\n",
       "      <td>Mount_St._Helens</td>\n",
       "      <td>timeout</td>\n",
       "    </tr>\n",
       "  </tbody>\n",
       "</table>\n",
       "</div>"
      ],
      "text/plain": [
       "    hashedIpAddress   timestamp  durationInSec  \\\n",
       "0  2426091a53125110  1297054935           1804   \n",
       "1  26141fd878806294  1297055651           1805   \n",
       "2  2b015fb8181c48f2  1297090819           1818   \n",
       "3  53a53bc244e08a6a  1297094761             49   \n",
       "4  53a53bc244e08a6a  1297099105           1808   \n",
       "\n",
       "                                   path            target     type  \n",
       "0                        Obi-Wan_Kenobi         Microsoft  timeout  \n",
       "1                         Julius_Caesar           Caracas  timeout  \n",
       "2  Malawi;Democracy;Alexander_the_Great     First_Crusade  timeout  \n",
       "3                              Paraguay  Mount_St._Helens  restart  \n",
       "4                      Paraguay;Bolivia  Mount_St._Helens  timeout  "
      ]
     },
     "execution_count": 8,
     "metadata": {},
     "output_type": "execute_result"
    }
   ],
   "source": [
    "# Import the data with the correct format\n",
    "data_folder = '../Data'\n",
    "paths_folder = data_folder + '/wikispeedia_paths-and-graph'\n",
    "columns_f = ['hashedIpAddress','timestamp','durationInSec','path','rating']\n",
    "columns_u = ['hashedIpAddress','timestamp','durationInSec','path','target', 'type']\n",
    "\n",
    "finished_paths = paths_folder + '/paths_finished.tsv'\n",
    "unfinished_paths = paths_folder + '/paths_unfinished.tsv'\n",
    "df_success = pd.read_csv(finished_paths,comment='#',sep='\\t',names=columns_f)\n",
    "df_fail = pd.read_csv(unfinished_paths,comment='#',sep='\\t',names=columns_u)\n",
    "display(df_fail)"
   ]
  },
  {
   "cell_type": "markdown",
   "metadata": {},
   "source": [
    "The failed paths dataset is parasited by games that were abandonned from the start. While one might consider that this might be the player giving up immediately and clicking off due to difficulty, we could also say it is because said player simply didn't *want* to play. It is simpler to just filter out all games that timed out within the first click.\n",
    "\n",
    "As for those that ended in a restart, they're still valuable, as they might mean that the player is simply stuck, and we know the player *still wants to play.*"
   ]
  },
  {
   "cell_type": "code",
   "execution_count": 3,
   "metadata": {},
   "outputs": [],
   "source": [
    "df_fail = df_fail[~((df_fail.type == 'timeout') &\n",
    "                    (~df_fail['path'].str.contains(';')))].copy()   #find() returns -1 if not in str. Not finding a ; means player stayed at start\n",
    "                                                                                                #Writing the inverse condition with a not is more clear\n",
    "display(df_fail)"
   ]
  },
  {
   "cell_type": "code",
   "execution_count": 4,
   "id": "3aa77b0b",
   "metadata": {},
   "outputs": [],
   "source": [
    "# change unix timestamp code to human readable\n",
    "#df_success['timestamp'] = df_success['timestamp'].apply(lambda x: pd.to_datetime(x, unit='s'))\n",
    "#df_fail['timestamp']    = df_fail['timestamp'].apply(lambda x: pd.to_datetime(x, unit='s'))\n",
    "\n",
    "\n",
    "#TODO do this cell once, and figure out how to write it to a tsv in a clean format"
   ]
  },
  {
   "cell_type": "code",
   "execution_count": 5,
   "id": "a4cef121",
   "metadata": {
    "scrolled": true
   },
   "outputs": [],
   "source": [
    "df_success"
   ]
  },
  {
   "cell_type": "code",
   "execution_count": 12,
   "id": "cfb6ff27",
   "metadata": {},
   "outputs": [
    {
     "data": {
      "text/plain": [
       "array(['14th_century -> African_slave_trade', '14th_century -> Greece',\n",
       "       '14th_century -> John_F._Kennedy', ...,\n",
       "       'Yagan -> U.S._Open_%28tennis%29',\n",
       "       'Yarralumla%2C_Australian_Capital_Territory -> Abraham_Lincoln',\n",
       "       'Ziad_Jarrah -> Jew'], dtype=object)"
      ]
     },
     "metadata": {},
     "output_type": "display_data"
    }
   ],
   "source": [
    "paths_success = df_success.path.apply(lambda x: x.split(';')).copy()\n",
    "df_fail.path = df_fail.path.map(str) + ';' + df_fail.target\n",
    "paths_failed  = df_fail.path.apply(lambda x: x.split(';'))\n",
    "paths_filtered_success = paths_success.apply(lambda x: x[0] +' -> '+ x[len(x)-1]).copy()\n",
    "paths_filtered_fail = paths_failed.apply(lambda x: x[0] +' -> '+ x[len(x)-1]).copy()\n",
    "paths_filtered_total = pd.concat([paths_filtered_success, paths_filtered_fail])"
   ]
  },
  {
   "cell_type": "code",
   "execution_count": 7,
   "id": "46825887",
   "metadata": {},
   "outputs": [
    {
     "data": {
      "text/plain": [
       "path\n",
       "Brain -> Telephone                          2044\n",
       "Theatre -> Zebra                            1777\n",
       "Asteroid -> Viking                          1770\n",
       "Pyramid -> Bean                             1586\n",
       "Batman -> Wood                               223\n",
       "                                            ... \n",
       "Arctic_Monkeys -> Mediterranean_Sea            1\n",
       "Archaeoastronomy -> Pig                        1\n",
       "Archaeoastronomy -> Laos                       1\n",
       "Archaeoastronomy -> Battle_of_Leyte_Gulf       1\n",
       "Jamaica -> Alan_Turing                         1\n",
       "Name: count, Length: 42631, dtype: int64"
      ]
     },
     "metadata": {},
     "output_type": "display_data"
    }
   ],
   "source": [
    "game_reps_total=paths_filtered_total.value_counts()\n",
    "display(game_reps_total)\n",
    "game_reps_success=paths_filtered_success.value_counts()\n",
    "game_reps_fail = paths_filtered_fail.value_counts()"
   ]
  },
  {
   "cell_type": "code",
   "execution_count": null,
   "id": "15e360bd",
   "metadata": {},
   "outputs": [],
   "source": []
  },
  {
   "cell_type": "code",
   "execution_count": null,
   "id": "fb4dec89",
   "metadata": {},
   "outputs": [],
   "source": []
  }
 ],
 "metadata": {
  "kernelspec": {
   "display_name": "Python 3 (ipykernel)",
   "language": "python",
   "name": "python3"
  },
  "language_info": {
   "codemirror_mode": {
    "name": "ipython",
    "version": 3
   },
   "file_extension": ".py",
   "mimetype": "text/x-python",
   "name": "python",
   "nbconvert_exporter": "python",
   "pygments_lexer": "ipython3",
   "version": "3.11.2"
  }
 },
 "nbformat": 4,
 "nbformat_minor": 5
}
