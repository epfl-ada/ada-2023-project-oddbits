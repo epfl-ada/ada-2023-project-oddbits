{
 "cells": [
  {
   "cell_type": "markdown",
   "id": "2583223a",
   "metadata": {},
   "source": [
    "# P2: Project proposal and initial analyses\n",
    "When you are done with Homework H1, you will continue to work on the next project milestone. In Milestone P2, together with your team members, you will agree on and refine your project proposal. Your first task is to select a project. Even though we provide the datasets for you to use, at this juncture, it is your responsibility to perform initial analyses and verify that what you propose is feasible given the data (including any additional data you might bring in yourself), which is crucial for the success of the project.\n",
    "\n",
    "The goal of this milestone is to intimately acquaint yourself with the data, preprocess it, and complete all the necessary descriptive statistics tasks. We expect you to have a pipeline in place, fully documented in a notebook, and show us that you have clear project goals.\n",
    "\n",
    "When describing the relevant aspects of the data, and any other datasets you may intend to use, you should in particular show (non-exhaustive list):\n",
    "\n",
    "- That you can handle the data in its size.\n",
    "- That you understand what’s in the data (formats, distributions, missing values, correlations, etc.).\n",
    "- That you considered ways to enrich, filter, transform the data according to your needs.\n",
    "- That you have a reasonable plan and ideas for methods you’re going to use, giving their essential mathematical details in the notebook.\n",
    "- That your plan for analysis and communication is reasonable and sound, potentially discussing alternatives to your choices that you considered but dropped.\n",
    "\n",
    "We will evaluate this milestone according to how well these steps have been done and documented, the quality of the code and its documentation, the feasibility and critical awareness of the project. We will also evaluate this milestone according to how clear, reasonable, and well thought-through the project idea is. Please use the second milestone to really check with us that everything is in order with your project (idea, feasibility, etc.) before you advance too much with the final Milestone P3! There will be project office hours dedicated to helping you.\n",
    "\n",
    "You will work in a public GitHub repository dedicated to your project, which can be created by following this link. The repository will automatically be named ada-2023-project-<your_team_name>. By the Milestone P2 deadline, each team should have a single public GitHub repo under the epfl-ada GitHub organization, containing the project proposal and initial analysis code.\n",
    "\n",
    "## P2 deliverable (done as a team): GitHub repository with the following:\n",
    "\n",
    "- Readme.md file containing the detailed project proposal (up to 1000 words). Your README.md should contain:\n",
    "  - Title\n",
    "  - bstract: A 150 word description of the project idea and goals. What’s the motivation behind your project? What story would you like to tell, and why?\n",
    "  - Research Questions: A list of research questions you would like to address during the project.\n",
    "  - Proposed additional datasets (if any): List the additional dataset(s) you want to use (if any), and some ideas on how you expect to get, manage, process, and enrich it/them. Show us that you’ve read the docs and some examples, and that you have a clear idea on what to expect. Discuss data size and format if relevant. It is your responsibility to check that what you propose is feasible.\n",
    "  - Methods\n",
    "  - Proposed timeline\n",
    "  - Organization within the team: A list of internal milestones up until project Milestone P3.\n",
    "  - Questions for TAs (optional): Add here any questions you have for us related to the proposed project.\n",
    "- Notebook containing initial analyses and data handling pipelines. We will grade the correctness, quality of code, and quality of textual descriptions.\n"
   ]
  }
 ],
 "metadata": {
  "kernelspec": {
   "display_name": "Python 3 (ipykernel)",
   "language": "python",
   "name": "python3"
  },
  "language_info": {
   "codemirror_mode": {
    "name": "ipython",
    "version": 3
   },
   "file_extension": ".py",
   "mimetype": "text/x-python",
   "name": "python",
   "nbconvert_exporter": "python",
   "pygments_lexer": "ipython3",
   "version": "3.9.18"
  }
 },
 "nbformat": 4,
 "nbformat_minor": 5
}
