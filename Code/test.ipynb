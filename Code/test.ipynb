{
 "cells": [
  {
   "cell_type": "code",
   "execution_count": 38,
   "metadata": {},
   "outputs": [],
   "source": [
    "import sys\n",
    "import pandas as pd\n",
    "import numpy as np"
   ]
  },
  {
   "cell_type": "code",
   "execution_count": 50,
   "metadata": {},
   "outputs": [
    {
     "data": {
      "text/plain": [
       "UID\n",
       "0d57c8c57d75e2f5    4865.0\n",
       "473d6ac602c2b198     637.0\n",
       "7d5624e35c9523ef     393.0\n",
       "5bb5836b425e6bfe     308.0\n",
       "75bd20c663d02c8f     297.0\n",
       "66b196465d2b5d38     274.0\n",
       "26f76e394525328e     270.0\n",
       "6b039e9953cf075e     231.0\n",
       "5f22535607b1d77d     197.0\n",
       "321e4b101c5b58ff     196.0\n",
       "6d136e371e42474f     175.0\n",
       "0299542414c3f20a     172.0\n",
       "221fbacf705b37fa     162.0\n",
       "7d29e9ab07e833d4     161.0\n",
       "101779c07d4d00f0     139.0\n",
       "126c53a444812f50     131.0\n",
       "66ab67f67b567f06     118.0\n",
       "58f1667d434c79f1     118.0\n",
       "614f1f9a3c5772c5     113.0\n",
       "66c9795a6eab354f     113.0\n",
       "28a5e827325f25fc     111.0\n",
       "5590014e126275b4     110.0\n",
       "0d48edb81fbc5911     107.0\n",
       "36691f800d571743     100.0\n",
       "045a02171b5eb11a      96.0\n",
       "56e8314208cb832d      87.0\n",
       "68c9826f016b0a60      86.0\n",
       "2005cc1b6a511043      83.0\n",
       "3a11233c52f824f8      82.0\n",
       "42b01a05046b184d      81.0\n",
       "51097ad93c73ad45      80.0\n",
       "23e9898629635546      80.0\n",
       "415612e93584d30e      80.0\n",
       "656628c22d882e9e      79.0\n",
       "1071f737742c3659      76.0\n",
       "12fda3ee4070ed17      76.0\n",
       "03476a0a39fc5f84      76.0\n",
       "77214b26091dfccb      75.0\n",
       "790e35411b2987eb      75.0\n",
       "30c351e319347c92      75.0\n",
       "403476ce4ded3d01      72.0\n",
       "0e0c2e8c5c871a71      72.0\n",
       "68a6c17d2ae6173e      71.0\n",
       "78bb181f30023e78      66.0\n",
       "1435204c44915446      62.0\n",
       "27bb85bf43c94394      62.0\n",
       "7768578618bbccbd      61.0\n",
       "6f0e968721e433f2      61.0\n",
       "373c1362595be489      60.0\n",
       "1e01719f7bb235b9      60.0\n",
       "Name: count, dtype: float64"
      ]
     },
     "metadata": {},
     "output_type": "display_data"
    }
   ],
   "source": [
    "df_f = pd.DataFrame\n",
    "df_f = pd.read_csv(\"../data/wikispeedia_paths-and-graph/paths_finished.tsv\", sep='\\t', skiprows= 17, skip_blank_lines=True)#, columns=['hashedIpAddress',     'timestamp',   'durationInSec',   'path',    'target',      'type'])\n",
    "#df_f.columns = ['hashedIpAddress',     'timestamp',   'durationInSec',   'path',    'target',      'type']\n",
    "df_u= pd.read_csv(\"../data/wikispeedia_paths-and-graph/paths_unfinished.tsv\",sep='\\t', skiprows= 16, skip_blank_lines=True)\n",
    "\n",
    "np.set_printoptions(threshold=sys.maxsize)\n",
    "\n",
    "df_f.columns = ['UID', 'timestamp', 'duration', 'path', 'rating']\n",
    "df_u.columns = ['UID', 'timestamp', 'duration', 'path', 'target', 'type']\n",
    "groups_f = df_f['UID'].value_counts()\n",
    "groups_u = df_u['UID'].value_counts()\n",
    "\n",
    "combined_counts = groups_f.add(groups_u, fill_value=0)\n",
    "filtered_counts = combined_counts[combined_counts >= 10].sort_values(ascending=False)\n",
    "\n",
    "display(filtered_counts.head(50))"
   ]
  },
  {
   "cell_type": "code",
   "execution_count": null,
   "metadata": {},
   "outputs": [],
   "source": []
  }
 ],
 "metadata": {
  "kernelspec": {
   "display_name": "Python 3",
   "language": "python",
   "name": "python3"
  },
  "language_info": {
   "codemirror_mode": {
    "name": "ipython",
    "version": 3
   },
   "file_extension": ".py",
   "mimetype": "text/x-python",
   "name": "python",
   "nbconvert_exporter": "python",
   "pygments_lexer": "ipython3",
   "version": "3.11.2"
  }
 },
 "nbformat": 4,
 "nbformat_minor": 2
}
