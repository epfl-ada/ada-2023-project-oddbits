{
 "cells": [
  {
   "cell_type": "markdown",
   "id": "2583223a",
   "metadata": {},
   "source": [
    "# P2: Project proposal and initial analyses\n",
    "When you are done with Homework H1, you will continue to work on the next project milestone. In Milestone P2, together with your team members, you will agree on and refine your project proposal. Your first task is to select a project. Even though we provide the datasets for you to use, at this juncture, it is your responsibility to perform initial analyses and verify that what you propose is feasible given the data (including any additional data you might bring in yourself), which is crucial for the success of the project.\n",
    "\n",
    "The goal of this milestone is to intimately acquaint yourself with the data, preprocess it, and complete all the necessary descriptive statistics tasks. We expect you to have a pipeline in place, fully documented in a notebook, and show us that you have clear project goals.\n",
    "\n",
    "When describing the relevant aspects of the data, and any other datasets you may intend to use, you should in particular show (non-exhaustive list):\n",
    "\n",
    "- That you can handle the data in its size.\n",
    "- That you understand what’s in the data (formats, distributions, missing values, correlations, etc.).\n",
    "- That you considered ways to enrich, filter, transform the data according to your needs.\n",
    "- That you have a reasonable plan and ideas for methods you’re going to use, giving their essential mathematical details in the notebook.\n",
    "- That your plan for analysis and communication is reasonable and sound, potentially discussing alternatives to your choices that you considered but dropped.\n",
    "\n",
    "We will evaluate this milestone according to how well these steps have been done and documented, the quality of the code and its documentation, the feasibility and critical awareness of the project. We will also evaluate this milestone according to how clear, reasonable, and well thought-through the project idea is. Please use the second milestone to really check with us that everything is in order with your project (idea, feasibility, etc.) before you advance too much with the final Milestone P3! There will be project office hours dedicated to helping you.\n",
    "\n",
    "You will work in a public GitHub repository dedicated to your project, which can be created by following this link. The repository will automatically be named ada-2023-project-<your_team_name>. By the Milestone P2 deadline, each team should have a single public GitHub repo under the epfl-ada GitHub organization, containing the project proposal and initial analysis code.\n",
    "\n",
    "## P2 deliverable (done as a team): GitHub repository with the following:\n",
    "\n",
    "- Readme.md file containing the detailed project proposal (up to 1000 words). Your README.md should contain:\n",
    "  - Title\n",
    "  - bstract: A 150 word description of the project idea and goals. What’s the motivation behind your project? What story would you like to tell, and why?\n",
    "  - Research Questions: A list of research questions you would like to address during the project.\n",
    "  - Proposed additional datasets (if any): List the additional dataset(s) you want to use (if any), and some ideas on how you expect to get, manage, process, and enrich it/them. Show us that you’ve read the docs and some examples, and that you have a clear idea on what to expect. Discuss data size and format if relevant. It is your responsibility to check that what you propose is feasible.\n",
    "  - Methods\n",
    "  - Proposed timeline\n",
    "  - Organization within the team: A list of internal milestones up until project Milestone P3.\n",
    "  - Questions for TAs (optional): Add here any questions you have for us related to the proposed project.\n",
    "- Notebook containing initial analyses and data handling pipelines. We will grade the correctness, quality of code, and quality of textual descriptions.\n"
   ]
  },
  {
   "cell_type": "code",
   "execution_count": 1,
   "id": "69f33e1e",
   "metadata": {},
   "outputs": [],
   "source": [
    "import pandas as pd\n",
    "import datetime as dt"
   ]
  },
  {
   "cell_type": "code",
   "execution_count": 2,
   "id": "5154c113",
   "metadata": {},
   "outputs": [],
   "source": [
    "# Import the data with the correct format\n",
    "data_folder = '../data/'\n",
    "columns=['hashedIpAddress','timestamp','durationInSec','path','rating']\n",
    "\n",
    "paths_dataset = data_folder+'wikispeedia_paths-and-graph/wikispeedia_paths-and-graph/paths_finished.tsv'\n",
    "df = pd.read_csv(paths_dataset,comment='#',sep='\\t',names=columns)"
   ]
  },
  {
   "cell_type": "code",
   "execution_count": 3,
   "id": "3aa77b0b",
   "metadata": {},
   "outputs": [],
   "source": [
    "# change unix timestamp code to human readable\n",
    "df['timestamp'] = df['timestamp'].apply(lambda x: pd.to_datetime(x, unit='s'))"
   ]
  },
  {
   "cell_type": "code",
   "execution_count": 4,
   "id": "a4cef121",
   "metadata": {
    "scrolled": true
   },
   "outputs": [
    {
     "data": {
      "text/html": [
       "<div>\n",
       "<style scoped>\n",
       "    .dataframe tbody tr th:only-of-type {\n",
       "        vertical-align: middle;\n",
       "    }\n",
       "\n",
       "    .dataframe tbody tr th {\n",
       "        vertical-align: top;\n",
       "    }\n",
       "\n",
       "    .dataframe thead th {\n",
       "        text-align: right;\n",
       "    }\n",
       "</style>\n",
       "<table border=\"1\" class=\"dataframe\">\n",
       "  <thead>\n",
       "    <tr style=\"text-align: right;\">\n",
       "      <th></th>\n",
       "      <th>hashedIpAddress</th>\n",
       "      <th>timestamp</th>\n",
       "      <th>durationInSec</th>\n",
       "      <th>path</th>\n",
       "      <th>rating</th>\n",
       "    </tr>\n",
       "  </thead>\n",
       "  <tbody>\n",
       "    <tr>\n",
       "      <th>0</th>\n",
       "      <td>6a3701d319fc3754</td>\n",
       "      <td>2011-02-15 03:26:49</td>\n",
       "      <td>166</td>\n",
       "      <td>14th_century;15th_century;16th_century;Pacific...</td>\n",
       "      <td>NaN</td>\n",
       "    </tr>\n",
       "    <tr>\n",
       "      <th>1</th>\n",
       "      <td>3824310e536af032</td>\n",
       "      <td>2012-08-12 06:36:52</td>\n",
       "      <td>88</td>\n",
       "      <td>14th_century;Europe;Africa;Atlantic_slave_trad...</td>\n",
       "      <td>3.0</td>\n",
       "    </tr>\n",
       "    <tr>\n",
       "      <th>2</th>\n",
       "      <td>415612e93584d30e</td>\n",
       "      <td>2012-10-03 21:10:40</td>\n",
       "      <td>138</td>\n",
       "      <td>14th_century;Niger;Nigeria;British_Empire;Slav...</td>\n",
       "      <td>NaN</td>\n",
       "    </tr>\n",
       "    <tr>\n",
       "      <th>3</th>\n",
       "      <td>64dd5cd342e3780c</td>\n",
       "      <td>2010-02-08 07:25:25</td>\n",
       "      <td>37</td>\n",
       "      <td>14th_century;Renaissance;Ancient_Greece;Greece</td>\n",
       "      <td>NaN</td>\n",
       "    </tr>\n",
       "    <tr>\n",
       "      <th>4</th>\n",
       "      <td>015245d773376aab</td>\n",
       "      <td>2013-04-23 15:27:08</td>\n",
       "      <td>175</td>\n",
       "      <td>14th_century;Italy;Roman_Catholic_Church;HIV;R...</td>\n",
       "      <td>3.0</td>\n",
       "    </tr>\n",
       "    <tr>\n",
       "      <th>...</th>\n",
       "      <td>...</td>\n",
       "      <td>...</td>\n",
       "      <td>...</td>\n",
       "      <td>...</td>\n",
       "      <td>...</td>\n",
       "    </tr>\n",
       "    <tr>\n",
       "      <th>51313</th>\n",
       "      <td>15a13a1d66ef5456</td>\n",
       "      <td>2012-10-03 02:23:35</td>\n",
       "      <td>66</td>\n",
       "      <td>Yagan;Ancient_Egypt;Civilization</td>\n",
       "      <td>NaN</td>\n",
       "    </tr>\n",
       "    <tr>\n",
       "      <th>51314</th>\n",
       "      <td>2ef7ac844cefda58</td>\n",
       "      <td>2011-03-16 05:42:18</td>\n",
       "      <td>165</td>\n",
       "      <td>Yagan;Folklore;Brothers_Grimm;&lt;;19th_century;C...</td>\n",
       "      <td>3.0</td>\n",
       "    </tr>\n",
       "    <tr>\n",
       "      <th>51315</th>\n",
       "      <td>12863abb7887f890</td>\n",
       "      <td>2013-11-22 04:42:52</td>\n",
       "      <td>228</td>\n",
       "      <td>Yagan;Australia;England;France;United_States;T...</td>\n",
       "      <td>NaN</td>\n",
       "    </tr>\n",
       "    <tr>\n",
       "      <th>51316</th>\n",
       "      <td>19f8284371753362</td>\n",
       "      <td>2011-02-27 07:42:47</td>\n",
       "      <td>56</td>\n",
       "      <td>Yarralumla%2C_Australian_Capital_Territory;Aus...</td>\n",
       "      <td>1.0</td>\n",
       "    </tr>\n",
       "    <tr>\n",
       "      <th>51317</th>\n",
       "      <td>24b84602179de377</td>\n",
       "      <td>2011-10-09 01:11:41</td>\n",
       "      <td>30</td>\n",
       "      <td>Ziad_Jarrah;Germany;Jew</td>\n",
       "      <td>NaN</td>\n",
       "    </tr>\n",
       "  </tbody>\n",
       "</table>\n",
       "<p>51318 rows × 5 columns</p>\n",
       "</div>"
      ],
      "text/plain": [
       "        hashedIpAddress           timestamp  durationInSec  \\\n",
       "0      6a3701d319fc3754 2011-02-15 03:26:49            166   \n",
       "1      3824310e536af032 2012-08-12 06:36:52             88   \n",
       "2      415612e93584d30e 2012-10-03 21:10:40            138   \n",
       "3      64dd5cd342e3780c 2010-02-08 07:25:25             37   \n",
       "4      015245d773376aab 2013-04-23 15:27:08            175   \n",
       "...                 ...                 ...            ...   \n",
       "51313  15a13a1d66ef5456 2012-10-03 02:23:35             66   \n",
       "51314  2ef7ac844cefda58 2011-03-16 05:42:18            165   \n",
       "51315  12863abb7887f890 2013-11-22 04:42:52            228   \n",
       "51316  19f8284371753362 2011-02-27 07:42:47             56   \n",
       "51317  24b84602179de377 2011-10-09 01:11:41             30   \n",
       "\n",
       "                                                    path  rating  \n",
       "0      14th_century;15th_century;16th_century;Pacific...     NaN  \n",
       "1      14th_century;Europe;Africa;Atlantic_slave_trad...     3.0  \n",
       "2      14th_century;Niger;Nigeria;British_Empire;Slav...     NaN  \n",
       "3         14th_century;Renaissance;Ancient_Greece;Greece     NaN  \n",
       "4      14th_century;Italy;Roman_Catholic_Church;HIV;R...     3.0  \n",
       "...                                                  ...     ...  \n",
       "51313                   Yagan;Ancient_Egypt;Civilization     NaN  \n",
       "51314  Yagan;Folklore;Brothers_Grimm;<;19th_century;C...     3.0  \n",
       "51315  Yagan;Australia;England;France;United_States;T...     NaN  \n",
       "51316  Yarralumla%2C_Australian_Capital_Territory;Aus...     1.0  \n",
       "51317                            Ziad_Jarrah;Germany;Jew     NaN  \n",
       "\n",
       "[51318 rows x 5 columns]"
      ]
     },
     "execution_count": 4,
     "metadata": {},
     "output_type": "execute_result"
    }
   ],
   "source": [
    "df"
   ]
  },
  {
   "cell_type": "code",
   "execution_count": 12,
   "id": "cfb6ff27",
   "metadata": {},
   "outputs": [
    {
     "name": "stdout",
     "output_type": "stream",
     "text": [
      "['14th_century -> African_slave_trade' '14th_century -> Greece'\n",
      " '14th_century -> John_F._Kennedy' ... 'Yagan -> U.S._Open_%28tennis%29'\n",
      " 'Yarralumla%2C_Australian_Capital_Territory -> Abraham_Lincoln'\n",
      " 'Ziad_Jarrah -> Jew']\n"
     ]
    }
   ],
   "source": [
    "paths = df.path.apply(lambda x: x.split(';')).copy()\n",
    "paths_filtered = paths.apply(lambda x: x[0] +' -> '+ x[len(x)-1]).copy()\n",
    "print(paths_filtered.unique())"
   ]
  },
  {
   "cell_type": "code",
   "execution_count": 21,
   "id": "46825887",
   "metadata": {},
   "outputs": [
    {
     "data": {
      "text/plain": [
       "path\n",
       "Asteroid -> Viking           1043\n",
       "Brain -> Telephone           1040\n",
       "Theatre -> Zebra              905\n",
       "Pyramid -> Bean               642\n",
       "Batman -> Wood                148\n",
       "Bird -> Great_white_shark     138\n",
       "Batman -> The_Holocaust       119\n",
       "Bird -> Adolf_Hitler          107\n",
       "Beer -> Sun                    99\n",
       "Batman -> Banana               69\n",
       "Name: count, dtype: int64"
      ]
     },
     "execution_count": 21,
     "metadata": {},
     "output_type": "execute_result"
    }
   ],
   "source": [
    "game_reps=paths_filtered.value_counts().head(10)\n",
    "game_reps"
   ]
  },
  {
   "cell_type": "code",
   "execution_count": 20,
   "id": "15e360bd",
   "metadata": {},
   "outputs": [
    {
     "data": {
      "text/plain": [
       "<Axes: >"
      ]
     },
     "execution_count": 20,
     "metadata": {},
     "output_type": "execute_result"
    },
    {
     "data": {
      "image/png": "[encoded data removed]",
      "text/plain": [
       "<Figure size 640x480 with 1 Axes>"
      ]
     },
     "metadata": {},
     "output_type": "display_data"
    }
   ],
   "source": [
    "game_reps.hist()"
   ]
  },
  {
   "cell_type": "code",
   "execution_count": null,
   "id": "fb4dec89",
   "metadata": {},
   "outputs": [],
   "source": []
  }
 ],
 "metadata": {
  "kernelspec": {
   "display_name": "Python 3 (ipykernel)",
   "language": "python",
   "name": "python3"
  },
  "language_info": {
   "codemirror_mode": {
    "name": "ipython",
    "version": 3
   },
   "file_extension": ".py",
   "mimetype": "text/x-python",
   "name": "python",
   "nbconvert_exporter": "python",
   "pygments_lexer": "ipython3",
   "version": "3.9.18"
  }
 },
 "nbformat": 4,
 "nbformat_minor": 5
}
